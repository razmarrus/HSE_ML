{
 "cells": [
  {
   "cell_type": "markdown",
   "metadata": {},
   "source": [
    "# Programming Assignment: Logistic regression "
   ]
  },
  {
   "cell_type": "markdown",
   "metadata": {},
   "source": [
    "In this assignment we will work with **logistic regression**, **l2-regularisation** and **gradient descent**. Main point of this task is to show how different parameters affect training.  \n",
    "Original seven tasks will be presented in Russian.\n",
    "\n",
    "**Tasks will be duplicated in english further in this assignment**\n",
    "\n",
    "1. Загрузите данные из файла data-logistic.csv. Это двумерная выборка, целевая переменная на которой принимает значения -1 или 1.\n",
    "2. Убедитесь, что выше выписаны правильные формулы для градиентного спуска. Обратите внимание, что мы используем полноценный градиентный спуск, а не его стохастический вариант!\n",
    "3. Реализуйте градиентный спуск для обычной и L2-регуляризованной (с коэффициентом регуляризации 10) логистической регрессии. Используйте длину шага k=0.1. В качестве начального приближения используйте вектор (0, 0).\n",
    "4. Запустите градиентный спуск и доведите до сходимости (евклидово расстояние между векторами весов на соседних итерациях должно быть не больше 1e-5). Рекомендуется ограничить сверху число итераций десятью тысячами.\n",
    "5. Какое значение принимает AUC-ROC на обучении без регуляризации и при ее использовании? Эти величины будут ответом на задание. В качестве ответа приведите два числа через пробел. Обратите внимание, что на вход функции roc_auc_score нужно подавать оценки вероятностей, подсчитанные обученным алгоритмом. Для этого воспользуйтесь сигмоидной функцией: a(x) = 1 / (1 + exp(-w1 x1 - w2 x2)). \n",
    "6. Попробуйте поменять длину шага. Будет ли сходиться алгоритм, если делать более длинные шаги? Как меняется число итераций при уменьшении длины шага?\n",
    "7. Попробуйте менять начальное приближение. Влияет ли оно на что-нибудь?"
   ]
  },
  {
   "cell_type": "code",
   "execution_count": 1,
   "metadata": {},
   "outputs": [],
   "source": [
    "import numpy as np\n",
    "from sklearn.metrics import roc_auc_score\n",
    "import pandas\n",
    "import math"
   ]
  },
  {
   "cell_type": "markdown",
   "metadata": {},
   "source": [
    "## Task №1\n",
    "*Ru*: Загрузите данные из файла data-logistic.csv. Это двумерная выборка, целевая переменная на которой принимает значения -1 или 1.\n",
    "\n",
    "*En:* Load data from data-logistic.csv file. This is a two-dimensional dataframe, the target variable takes values -1 or 1.\n"
   ]
  },
  {
   "cell_type": "code",
   "execution_count": 2,
   "metadata": {},
   "outputs": [
    {
     "data": {
      "text/html": [
       "<div>\n",
       "<style scoped>\n",
       "    .dataframe tbody tr th:only-of-type {\n",
       "        vertical-align: middle;\n",
       "    }\n",
       "\n",
       "    .dataframe tbody tr th {\n",
       "        vertical-align: top;\n",
       "    }\n",
       "\n",
       "    .dataframe thead th {\n",
       "        text-align: right;\n",
       "    }\n",
       "</style>\n",
       "<table border=\"1\" class=\"dataframe\">\n",
       "  <thead>\n",
       "    <tr style=\"text-align: right;\">\n",
       "      <th></th>\n",
       "      <th>0</th>\n",
       "      <th>1</th>\n",
       "      <th>2</th>\n",
       "    </tr>\n",
       "  </thead>\n",
       "  <tbody>\n",
       "    <tr>\n",
       "      <th>0</th>\n",
       "      <td>-1</td>\n",
       "      <td>-0.663827</td>\n",
       "      <td>-0.138526</td>\n",
       "    </tr>\n",
       "    <tr>\n",
       "      <th>1</th>\n",
       "      <td>1</td>\n",
       "      <td>1.994596</td>\n",
       "      <td>2.468025</td>\n",
       "    </tr>\n",
       "    <tr>\n",
       "      <th>2</th>\n",
       "      <td>-1</td>\n",
       "      <td>-1.247395</td>\n",
       "      <td>0.749425</td>\n",
       "    </tr>\n",
       "    <tr>\n",
       "      <th>3</th>\n",
       "      <td>1</td>\n",
       "      <td>2.309374</td>\n",
       "      <td>1.899836</td>\n",
       "    </tr>\n",
       "    <tr>\n",
       "      <th>4</th>\n",
       "      <td>1</td>\n",
       "      <td>0.849143</td>\n",
       "      <td>2.407750</td>\n",
       "    </tr>\n",
       "  </tbody>\n",
       "</table>\n",
       "</div>"
      ],
      "text/plain": [
       "   0         1         2\n",
       "0 -1 -0.663827 -0.138526\n",
       "1  1  1.994596  2.468025\n",
       "2 -1 -1.247395  0.749425\n",
       "3  1  2.309374  1.899836\n",
       "4  1  0.849143  2.407750"
      ]
     },
     "execution_count": 2,
     "metadata": {},
     "output_type": "execute_result"
    }
   ],
   "source": [
    "df = pandas.read_csv('data-logistic.csv', header=None)\n",
    "df.head()"
   ]
  },
  {
   "cell_type": "code",
   "execution_count": 3,
   "metadata": {},
   "outputs": [],
   "source": [
    "X = df[[1, 2]]\n",
    "y = df[0]"
   ]
  },
  {
   "cell_type": "markdown",
   "metadata": {},
   "source": [
    "## Task №2\n",
    "*Ru*: Убедитесь, что выше выписаны правильные формулы для градиентного спуска. Обратите внимание, что мы используем полноценный градиентный спуск, а не его стохастический вариант!\n",
    "\n",
    "*En:* Make sure the formulas, that are written above, are correct for gradient descent. Please note that we are using full gradient descent, not it's stochastic version! "
   ]
  },
  {
   "cell_type": "markdown",
   "metadata": {},
   "source": [
    "I won't rewrite formulas here. They will appear in the next task in python code anyway"
   ]
  },
  {
   "cell_type": "markdown",
   "metadata": {},
   "source": [
    "## Task №3\n",
    "*Ru*: Реализуйте градиентный спуск для обычной и L2-регуляризованной (с коэффициентом регуляризации 10) логистической регрессии. Используйте длину шага k=0.1. В качестве начального приближения используйте вектор (0, 0).\n",
    "\n",
    "*En:* Implement gradient descent for logistic regression with L2-regularized and without it (with a regularization factor of 10) . Use stride length k = 0.1. Use the vector (0, 0) as an initial guess. "
   ]
  },
  {
   "cell_type": "code",
   "execution_count": 4,
   "metadata": {},
   "outputs": [],
   "source": [
    "def grad_step(w1, w2, x, y, k, C):\n",
    "    sum_1 = 0\n",
    "    sum_2 = 0\n",
    "    l = len(y)\n",
    "    \n",
    "    for i in range(1, len(y)):\n",
    "        denominator = 1.0 + math.exp(-y[i]*(w1*x[1][i]+w2*x[2][i]))\n",
    "        sum_1 +=y[i]*x[1][i]*(1.0 - 1.0/ denominator)\n",
    "        sum_2 +=y[i]*x[2][i]*(1.0 - 1.0/ denominator)\n",
    "    w1 = w1 + k/l*sum_1 - k*C*w1\n",
    "    w2 = w2 + k/l*sum_2 - k*C*w2\n",
    "    return w1, w2"
   ]
  },
  {
   "cell_type": "code",
   "execution_count": 5,
   "metadata": {},
   "outputs": [],
   "source": [
    "def grad(w1, w2, X, y, k=0.1, C=0.0, i_max = 10000):\n",
    "    i = 0\n",
    "    e = 1\n",
    "    w1_prev, w2_prev = w1, w2\n",
    "    while i < i_max: \n",
    "\n",
    "        w1, w2 = grad_step(w1, w2, X, y, k, C)\n",
    "        i = i + 1\n",
    "        e = math.sqrt((w1 - w1_prev) **2 + (w2 - w2_prev) ** 2)\n",
    "\n",
    "        if i >= i_max or e <= err:\n",
    "            print(\"stopped at\", i,\"-th step; error:\", e)\n",
    "            break\n",
    "            \n",
    "        w1_prev, w2_prev = w1, w2\n",
    "    return w1, w2"
   ]
  },
  {
   "cell_type": "markdown",
   "metadata": {},
   "source": [
    "## Task №4\n",
    "*Ru*: Запустите градиентный спуск и доведите до сходимости (евклидово расстояние между векторами весов на соседних итерациях должно быть не больше 1e-5). Рекомендуется ограничить сверху число итераций десятью тысячами.\n",
    "\n",
    "*En:* Start gradient descent and bring it to convergence (the Euclidean distance between the weight vectors at adjacent iterations should be no more than 1e-5). We strongly recommend to limit the number of iterations from above to ten thousand. "
   ]
  },
  {
   "cell_type": "code",
   "execution_count": 6,
   "metadata": {},
   "outputs": [],
   "source": [
    "k=0.1\n",
    "#C = 10\n",
    "err=1e-5"
   ]
  },
  {
   "cell_type": "code",
   "execution_count": 7,
   "metadata": {},
   "outputs": [
    {
     "name": "stdout",
     "output_type": "stream",
     "text": [
      "stopped at 8 -th step; error: 4.756507634923105e-06\n"
     ]
    }
   ],
   "source": [
    "w1 = 0.0 \n",
    "w2 = 0.0\n",
    "w1, w2 = grad(w1, w2, X, y, C=10)"
   ]
  },
  {
   "cell_type": "markdown",
   "metadata": {},
   "source": [
    "## Task №5\n",
    "*Ru*:  Какое значение принимает AUC-ROC на обучении без регуляризации и при ее использовании? Эти величины будут ответом на задание. В качестве ответа приведите два числа через пробел. Обратите внимание, что на вход функции roc_auc_score нужно подавать оценки вероятностей, подсчитанные обученным алгоритмом. Для этого воспользуйтесь сигмоидной функцией: a(x) = 1 / (1 + exp(-w1 x1 - w2 x2)).\n",
    "\n",
    "*En:* What is the value of AUC-ROC in learning without regularization and when using it? These values will be the answer to the task. Give two numbers separated by spaces as your answer. Please note that the input to the roc_auc_score function must be fed with the probability estimates calculated by the trained algorithm. To do this, use the sigmoid function: a (x) = 1 / (1 + exp (-w1 x1 - w2 x2)). "
   ]
  },
  {
   "cell_type": "code",
   "execution_count": 8,
   "metadata": {},
   "outputs": [
    {
     "name": "stdout",
     "output_type": "stream",
     "text": [
      "stopped at 242 -th step; error: 9.976423992396325e-06\n"
     ]
    }
   ],
   "source": [
    "w1_no_reg = 0.0 \n",
    "w2_no_reg = 0.0\n",
    "w1_no_reg, w2_no_reg = grad(w1_no_reg, w2_no_reg, X, y)#, i_max = 100)"
   ]
  },
  {
   "cell_type": "code",
   "execution_count": 9,
   "metadata": {},
   "outputs": [],
   "source": [
    "def sigmoid(x1, x2, w1, w2):\n",
    "    return 1.0 / (1.0 + np.exp(-w1 * x1 - w2 * x2))"
   ]
  },
  {
   "cell_type": "code",
   "execution_count": 10,
   "metadata": {},
   "outputs": [],
   "source": [
    "y_score = []\n",
    "y_score_no_reg = []\n",
    "for i in range(len(X[1][:])):\n",
    "    y_score.append(sigmoid(X[1][i],X[2][i], w1, w2))\n",
    "    y_score_no_reg.append(sigmoid(X[1][i],X[2][i], w1_no_reg, w2_no_reg))\n",
    "#y_score"
   ]
  },
  {
   "cell_type": "code",
   "execution_count": 11,
   "metadata": {},
   "outputs": [],
   "source": [
    "#y_score_no_reg"
   ]
  },
  {
   "cell_type": "code",
   "execution_count": 12,
   "metadata": {},
   "outputs": [
    {
     "data": {
      "text/plain": [
       "0.9362857142857142"
      ]
     },
     "execution_count": 12,
     "metadata": {},
     "output_type": "execute_result"
    }
   ],
   "source": [
    "auc = roc_auc_score(y, y_score)\n",
    "auc"
   ]
  },
  {
   "cell_type": "code",
   "execution_count": 13,
   "metadata": {},
   "outputs": [
    {
     "data": {
      "text/plain": [
       "0.9270476190476189"
      ]
     },
     "execution_count": 13,
     "metadata": {},
     "output_type": "execute_result"
    }
   ],
   "source": [
    "auc_no_reg = roc_auc_score(y, y_score_no_reg)\n",
    "auc_no_reg"
   ]
  },
  {
   "cell_type": "markdown",
   "metadata": {},
   "source": [
    "## Task №6\n",
    "*Ru*: Попробуйте поменять длину шага. Будет ли сходиться алгоритм, если делать более длинные шаги? Как меняется число итераций при уменьшении длины шага?\n",
    "\n",
    "*En:* Try changing your stride length. Will the algorithm converge if you take longer steps? How does the number of iterations change with decreasing step length? "
   ]
  },
  {
   "cell_type": "code",
   "execution_count": 14,
   "metadata": {},
   "outputs": [],
   "source": [
    "k_list = [0.001, 0.002, 0.005, 0.01, 0.05, 0.08]"
   ]
  },
  {
   "cell_type": "code",
   "execution_count": 15,
   "metadata": {},
   "outputs": [
    {
     "name": "stdout",
     "output_type": "stream",
     "text": [
      "stopped at 305 -th step; error: 9.90183826733714e-06\n",
      "with k= 0.001 AUC-ROC is 0.936095238095238 \n",
      "\n",
      "stopped at 179 -th step; error: 9.959682035765849e-06\n",
      "with k= 0.002 AUC-ROC is 0.936190476190476 \n",
      "\n",
      "stopped at 85 -th step; error: 9.935920467591153e-06\n",
      "with k= 0.005 AUC-ROC is 0.936190476190476 \n",
      "\n",
      "stopped at 47 -th step; error: 9.657902365290397e-06\n",
      "with k= 0.01 AUC-ROC is 0.9362857142857142 \n",
      "\n",
      "stopped at 10 -th step; error: 4.231489041175181e-06\n",
      "with k= 0.05 AUC-ROC is 0.9362857142857142 \n",
      "\n",
      "stopped at 5 -th step; error: 3.2925590680663877e-06\n",
      "with k= 0.08 AUC-ROC is 0.9362857142857142 \n",
      "\n"
     ]
    }
   ],
   "source": [
    "for i in k_list:\n",
    "    w1, w2 = 0, 0\n",
    "    y_score = []\n",
    "    \n",
    "    w1, w2 = grad(w1, w2, X, y, k=i, C=10)\n",
    "    for j in range(len(X[1][:])):\n",
    "        y_score.append(sigmoid(X[1][j],X[2][j], w1, w2))\n",
    "    auc = roc_auc_score(y, y_score)\n",
    "    print(\"with k=\",i, \"AUC-ROC is\", auc, \"\\n\")"
   ]
  },
  {
   "cell_type": "markdown",
   "metadata": {},
   "source": [
    "**Сonclusion**: The smaller the stride length, the more steps the algorithm needs "
   ]
  },
  {
   "cell_type": "markdown",
   "metadata": {},
   "source": [
    "## Task №7\n",
    "*Ru*: Попробуйте менять начальное приближение. Влияет ли оно на что-нибудь?\n",
    "\n",
    "*En:* Try changing the initial approximation. Does it affect anything? "
   ]
  },
  {
   "cell_type": "code",
   "execution_count": 16,
   "metadata": {},
   "outputs": [],
   "source": [
    "w_list = [0.001, 0.002, 0.005, 0.01, 0.05, 0.08, 0.1, 0.3, 0.6, 1, 5, 10]"
   ]
  },
  {
   "cell_type": "code",
   "execution_count": 17,
   "metadata": {},
   "outputs": [
    {
     "name": "stdout",
     "output_type": "stream",
     "text": [
      "stopped at 8 -th step; error: 4.57587911795355e-06\n",
      "with w= 0.001 AUC-ROC is 0.9362857142857142 \n",
      "\n",
      "stopped at 8 -th step; error: 4.395026667578739e-06\n",
      "with w= 0.002 AUC-ROC is 0.9362857142857142 \n",
      "\n",
      "stopped at 8 -th step; error: 3.851524963260124e-06\n",
      "with w= 0.005 AUC-ROC is 0.9362857142857142 \n",
      "\n",
      "stopped at 8 -th step; error: 2.9449397162643e-06\n",
      "with w= 0.01 AUC-ROC is 0.9362857142857142 \n",
      "\n",
      "stopped at 8 -th step; error: 3.855519586940872e-06\n",
      "with w= 0.05 AUC-ROC is 0.9362857142857142 \n",
      "\n",
      "stopped at 8 -th step; error: 7.990169957742937e-06\n",
      "with w= 0.08 AUC-ROC is 0.9362857142857142 \n",
      "\n",
      "stopped at 9 -th step; error: 2.751839531089911e-06\n",
      "with w= 0.1 AUC-ROC is 0.9362857142857142 \n",
      "\n",
      "stopped at 9 -th step; error: 6.587731633752266e-06\n",
      "with w= 0.3 AUC-ROC is 0.9362857142857142 \n",
      "\n",
      "stopped at 9 -th step; error: 9.219093788554277e-06\n",
      "with w= 0.6 AUC-ROC is 0.9362857142857142 \n",
      "\n",
      "stopped at 10 -th step; error: 2.7999164799843753e-06\n",
      "with w= 1 AUC-ROC is 0.9362857142857142 \n",
      "\n",
      "stopped at 10 -th step; error: 3.0916131667751155e-06\n",
      "with w= 5 AUC-ROC is 0.9362857142857142 \n",
      "\n",
      "stopped at 10 -th step; error: 3.1032408653689338e-06\n",
      "with w= 10 AUC-ROC is 0.9362857142857142 \n",
      "\n"
     ]
    }
   ],
   "source": [
    "for w in w_list:\n",
    "    y_score = []\n",
    "    \n",
    "    w1, w2 = grad(w, w, X, y, C=10)\n",
    "    for j in range(len(X[1][:])):\n",
    "        y_score.append(sigmoid(X[1][j],X[2][j], w1, w2))\n",
    "    auc = roc_auc_score(y, y_score)\n",
    "    print(\"with w=\",w, \"AUC-ROC is\", auc, \"\\n\")\n"
   ]
  },
  {
   "cell_type": "markdown",
   "metadata": {},
   "source": [
    "**Сonclusion:** Seems that the initial approximation does not really affect anything "
   ]
  }
 ],
 "metadata": {
  "kernelspec": {
   "display_name": "Python 3",
   "language": "python",
   "name": "python3"
  },
  "language_info": {
   "codemirror_mode": {
    "name": "ipython",
    "version": 3
   },
   "file_extension": ".py",
   "mimetype": "text/x-python",
   "name": "python",
   "nbconvert_exporter": "python",
   "pygments_lexer": "ipython3",
   "version": "3.8.5"
  }
 },
 "nbformat": 4,
 "nbformat_minor": 4
}
