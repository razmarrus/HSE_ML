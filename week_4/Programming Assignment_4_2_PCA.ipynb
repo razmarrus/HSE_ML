{
 "cells": [
  {
   "cell_type": "markdown",
   "metadata": {},
   "source": [
    "# Programming Assignment: Principal component analysis"
   ]
  },
  {
   "cell_type": "markdown",
   "metadata": {},
   "source": [
    "A bit more challenging topic is upcoming next: **Principal component analysis** (PCA). The task is to reduce the dimension of Dow Jones Industrial Average.  \n",
    "Let's take a look at original five tasks presented in Russian.\n",
    "\n",
    "**Tasks will be duplicated in english further in this assignment**\n",
    "\n",
    "1. Загрузите данные close_prices.csv. В этом файле приведены цены акций 30 компаний на закрытии торгов за каждый день периода. \n",
    "2. На загруженных данных обучите преобразование PCA с числом компоненты равным 10. Скольких компонент хватит, чтобы объяснить 90% дисперсии?\n",
    "3. Примените построенное преобразование к исходным данным и возьмите значения первой компоненты. \n",
    "4. Загрузите информацию об индексе Доу-Джонса из файла djia_index.csv. Чему равна корреляция Пирсона между первой компонентой и индексом Доу-Джонса? \n",
    "5. Какая компания имеет наибольший вес в первой компоненте? Укажите ее название с большой буквы."
   ]
  },
  {
   "cell_type": "code",
   "execution_count": 1,
   "metadata": {},
   "outputs": [],
   "source": [
    "import numpy as np\n",
    "from sklearn.decomposition import PCA\n",
    "import pandas"
   ]
  },
  {
   "cell_type": "markdown",
   "metadata": {},
   "source": [
    "## Task №1\n",
    "*Ru*: Загрузите данные close_prices.csv. В этом файле приведены цены акций 30 компаний на закрытии торгов за каждый день периода. \n",
    "\n",
    "\n",
    "*En:* Load the close_prices.csv data. This file contains stock prices of 30 companies at the close of trading for each day of the period "
   ]
  },
  {
   "cell_type": "code",
   "execution_count": 2,
   "metadata": {},
   "outputs": [
    {
     "data": {
      "text/html": [
       "<div>\n",
       "<style scoped>\n",
       "    .dataframe tbody tr th:only-of-type {\n",
       "        vertical-align: middle;\n",
       "    }\n",
       "\n",
       "    .dataframe tbody tr th {\n",
       "        vertical-align: top;\n",
       "    }\n",
       "\n",
       "    .dataframe thead th {\n",
       "        text-align: right;\n",
       "    }\n",
       "</style>\n",
       "<table border=\"1\" class=\"dataframe\">\n",
       "  <thead>\n",
       "    <tr style=\"text-align: right;\">\n",
       "      <th></th>\n",
       "      <th>date</th>\n",
       "      <th>AXP</th>\n",
       "      <th>BA</th>\n",
       "      <th>CAT</th>\n",
       "      <th>CSCO</th>\n",
       "      <th>CVX</th>\n",
       "      <th>DD</th>\n",
       "      <th>DIS</th>\n",
       "      <th>GE</th>\n",
       "      <th>GS</th>\n",
       "      <th>...</th>\n",
       "      <th>PFE</th>\n",
       "      <th>PG</th>\n",
       "      <th>T</th>\n",
       "      <th>TRV</th>\n",
       "      <th>UNH</th>\n",
       "      <th>UTX</th>\n",
       "      <th>V</th>\n",
       "      <th>VZ</th>\n",
       "      <th>WMT</th>\n",
       "      <th>XOM</th>\n",
       "    </tr>\n",
       "  </thead>\n",
       "  <tbody>\n",
       "    <tr>\n",
       "      <th>0</th>\n",
       "      <td>2013-09-23</td>\n",
       "      <td>76.440002</td>\n",
       "      <td>117.510002</td>\n",
       "      <td>85.029999</td>\n",
       "      <td>24.270000</td>\n",
       "      <td>125.519997</td>\n",
       "      <td>59.409999</td>\n",
       "      <td>64.750000</td>\n",
       "      <td>24.280001</td>\n",
       "      <td>165.250000</td>\n",
       "      <td>...</td>\n",
       "      <td>28.799999</td>\n",
       "      <td>79.279999</td>\n",
       "      <td>34.220001</td>\n",
       "      <td>86.379997</td>\n",
       "      <td>71.820000</td>\n",
       "      <td>109.419998</td>\n",
       "      <td>196.240005</td>\n",
       "      <td>47.980000</td>\n",
       "      <td>76.419998</td>\n",
       "      <td>87.750000</td>\n",
       "    </tr>\n",
       "    <tr>\n",
       "      <th>1</th>\n",
       "      <td>2013-09-24</td>\n",
       "      <td>76.070000</td>\n",
       "      <td>119.000000</td>\n",
       "      <td>85.110001</td>\n",
       "      <td>24.139999</td>\n",
       "      <td>124.489998</td>\n",
       "      <td>59.319997</td>\n",
       "      <td>64.320000</td>\n",
       "      <td>24.320000</td>\n",
       "      <td>162.970001</td>\n",
       "      <td>...</td>\n",
       "      <td>28.709999</td>\n",
       "      <td>78.620003</td>\n",
       "      <td>34.090000</td>\n",
       "      <td>85.870003</td>\n",
       "      <td>72.320000</td>\n",
       "      <td>110.000000</td>\n",
       "      <td>193.339996</td>\n",
       "      <td>47.270000</td>\n",
       "      <td>75.750000</td>\n",
       "      <td>87.360001</td>\n",
       "    </tr>\n",
       "    <tr>\n",
       "      <th>2</th>\n",
       "      <td>2013-09-25</td>\n",
       "      <td>75.989998</td>\n",
       "      <td>118.510002</td>\n",
       "      <td>84.500000</td>\n",
       "      <td>24.430000</td>\n",
       "      <td>124.070000</td>\n",
       "      <td>59.319997</td>\n",
       "      <td>64.449997</td>\n",
       "      <td>24.230000</td>\n",
       "      <td>162.309998</td>\n",
       "      <td>...</td>\n",
       "      <td>28.490000</td>\n",
       "      <td>77.720001</td>\n",
       "      <td>34.049999</td>\n",
       "      <td>85.980003</td>\n",
       "      <td>71.980003</td>\n",
       "      <td>109.260002</td>\n",
       "      <td>191.559998</td>\n",
       "      <td>46.950001</td>\n",
       "      <td>74.650002</td>\n",
       "      <td>87.139999</td>\n",
       "    </tr>\n",
       "    <tr>\n",
       "      <th>3</th>\n",
       "      <td>2013-09-26</td>\n",
       "      <td>76.320000</td>\n",
       "      <td>119.379997</td>\n",
       "      <td>84.199997</td>\n",
       "      <td>23.770000</td>\n",
       "      <td>123.489998</td>\n",
       "      <td>59.509996</td>\n",
       "      <td>65.239998</td>\n",
       "      <td>24.250000</td>\n",
       "      <td>162.289993</td>\n",
       "      <td>...</td>\n",
       "      <td>28.520000</td>\n",
       "      <td>78.050003</td>\n",
       "      <td>34.230000</td>\n",
       "      <td>85.830002</td>\n",
       "      <td>72.160004</td>\n",
       "      <td>109.660004</td>\n",
       "      <td>193.559998</td>\n",
       "      <td>47.669998</td>\n",
       "      <td>74.620003</td>\n",
       "      <td>87.070000</td>\n",
       "    </tr>\n",
       "    <tr>\n",
       "      <th>4</th>\n",
       "      <td>2013-09-27</td>\n",
       "      <td>75.889999</td>\n",
       "      <td>118.739998</td>\n",
       "      <td>83.800003</td>\n",
       "      <td>23.330000</td>\n",
       "      <td>122.639999</td>\n",
       "      <td>59.009995</td>\n",
       "      <td>65.190002</td>\n",
       "      <td>24.049999</td>\n",
       "      <td>159.850006</td>\n",
       "      <td>...</td>\n",
       "      <td>28.879999</td>\n",
       "      <td>77.209999</td>\n",
       "      <td>33.980000</td>\n",
       "      <td>85.410004</td>\n",
       "      <td>71.989998</td>\n",
       "      <td>109.360001</td>\n",
       "      <td>193.050003</td>\n",
       "      <td>47.000000</td>\n",
       "      <td>74.360001</td>\n",
       "      <td>86.900002</td>\n",
       "    </tr>\n",
       "    <tr>\n",
       "      <th>...</th>\n",
       "      <td>...</td>\n",
       "      <td>...</td>\n",
       "      <td>...</td>\n",
       "      <td>...</td>\n",
       "      <td>...</td>\n",
       "      <td>...</td>\n",
       "      <td>...</td>\n",
       "      <td>...</td>\n",
       "      <td>...</td>\n",
       "      <td>...</td>\n",
       "      <td>...</td>\n",
       "      <td>...</td>\n",
       "      <td>...</td>\n",
       "      <td>...</td>\n",
       "      <td>...</td>\n",
       "      <td>...</td>\n",
       "      <td>...</td>\n",
       "      <td>...</td>\n",
       "      <td>...</td>\n",
       "      <td>...</td>\n",
       "      <td>...</td>\n",
       "    </tr>\n",
       "    <tr>\n",
       "      <th>369</th>\n",
       "      <td>2015-03-12</td>\n",
       "      <td>81.559998</td>\n",
       "      <td>152.039993</td>\n",
       "      <td>80.190002</td>\n",
       "      <td>28.240000</td>\n",
       "      <td>102.419998</td>\n",
       "      <td>80.400001</td>\n",
       "      <td>107.169998</td>\n",
       "      <td>25.400000</td>\n",
       "      <td>189.949997</td>\n",
       "      <td>...</td>\n",
       "      <td>34.000000</td>\n",
       "      <td>82.089996</td>\n",
       "      <td>33.130001</td>\n",
       "      <td>107.830002</td>\n",
       "      <td>114.879997</td>\n",
       "      <td>121.239998</td>\n",
       "      <td>269.579987</td>\n",
       "      <td>48.730000</td>\n",
       "      <td>81.900002</td>\n",
       "      <td>84.220001</td>\n",
       "    </tr>\n",
       "    <tr>\n",
       "      <th>370</th>\n",
       "      <td>2015-03-13</td>\n",
       "      <td>80.599998</td>\n",
       "      <td>151.570007</td>\n",
       "      <td>79.230003</td>\n",
       "      <td>27.940001</td>\n",
       "      <td>101.620003</td>\n",
       "      <td>80.499997</td>\n",
       "      <td>106.440002</td>\n",
       "      <td>25.040001</td>\n",
       "      <td>189.339996</td>\n",
       "      <td>...</td>\n",
       "      <td>34.000000</td>\n",
       "      <td>81.830002</td>\n",
       "      <td>32.759998</td>\n",
       "      <td>106.720001</td>\n",
       "      <td>115.250000</td>\n",
       "      <td>118.739998</td>\n",
       "      <td>265.029999</td>\n",
       "      <td>48.840000</td>\n",
       "      <td>81.900002</td>\n",
       "      <td>83.870003</td>\n",
       "    </tr>\n",
       "    <tr>\n",
       "      <th>371</th>\n",
       "      <td>2015-03-16</td>\n",
       "      <td>81.500000</td>\n",
       "      <td>153.669998</td>\n",
       "      <td>79.970001</td>\n",
       "      <td>28.299999</td>\n",
       "      <td>103.129997</td>\n",
       "      <td>77.069994</td>\n",
       "      <td>107.370003</td>\n",
       "      <td>25.450001</td>\n",
       "      <td>191.899994</td>\n",
       "      <td>...</td>\n",
       "      <td>34.439999</td>\n",
       "      <td>83.559998</td>\n",
       "      <td>33.060001</td>\n",
       "      <td>108.930000</td>\n",
       "      <td>118.519997</td>\n",
       "      <td>120.070000</td>\n",
       "      <td>269.019989</td>\n",
       "      <td>49.270000</td>\n",
       "      <td>83.290001</td>\n",
       "      <td>84.760002</td>\n",
       "    </tr>\n",
       "    <tr>\n",
       "      <th>372</th>\n",
       "      <td>2015-03-17</td>\n",
       "      <td>81.059998</td>\n",
       "      <td>154.509995</td>\n",
       "      <td>78.449997</td>\n",
       "      <td>28.150000</td>\n",
       "      <td>103.169998</td>\n",
       "      <td>74.680001</td>\n",
       "      <td>106.959999</td>\n",
       "      <td>25.309999</td>\n",
       "      <td>190.570007</td>\n",
       "      <td>...</td>\n",
       "      <td>34.169998</td>\n",
       "      <td>82.849998</td>\n",
       "      <td>32.900002</td>\n",
       "      <td>108.750000</td>\n",
       "      <td>117.599998</td>\n",
       "      <td>119.860001</td>\n",
       "      <td>264.500000</td>\n",
       "      <td>48.950001</td>\n",
       "      <td>82.620003</td>\n",
       "      <td>84.080002</td>\n",
       "    </tr>\n",
       "    <tr>\n",
       "      <th>373</th>\n",
       "      <td>2015-03-18</td>\n",
       "      <td>81.860001</td>\n",
       "      <td>155.729996</td>\n",
       "      <td>81.330002</td>\n",
       "      <td>28.150000</td>\n",
       "      <td>106.699997</td>\n",
       "      <td>76.009997</td>\n",
       "      <td>107.970001</td>\n",
       "      <td>25.639999</td>\n",
       "      <td>192.320007</td>\n",
       "      <td>...</td>\n",
       "      <td>34.380001</td>\n",
       "      <td>83.750000</td>\n",
       "      <td>33.590000</td>\n",
       "      <td>109.519997</td>\n",
       "      <td>119.959999</td>\n",
       "      <td>120.309998</td>\n",
       "      <td>267.670013</td>\n",
       "      <td>49.540001</td>\n",
       "      <td>82.529999</td>\n",
       "      <td>86.070000</td>\n",
       "    </tr>\n",
       "  </tbody>\n",
       "</table>\n",
       "<p>374 rows × 31 columns</p>\n",
       "</div>"
      ],
      "text/plain": [
       "           date        AXP          BA        CAT       CSCO         CVX  \\\n",
       "0    2013-09-23  76.440002  117.510002  85.029999  24.270000  125.519997   \n",
       "1    2013-09-24  76.070000  119.000000  85.110001  24.139999  124.489998   \n",
       "2    2013-09-25  75.989998  118.510002  84.500000  24.430000  124.070000   \n",
       "3    2013-09-26  76.320000  119.379997  84.199997  23.770000  123.489998   \n",
       "4    2013-09-27  75.889999  118.739998  83.800003  23.330000  122.639999   \n",
       "..          ...        ...         ...        ...        ...         ...   \n",
       "369  2015-03-12  81.559998  152.039993  80.190002  28.240000  102.419998   \n",
       "370  2015-03-13  80.599998  151.570007  79.230003  27.940001  101.620003   \n",
       "371  2015-03-16  81.500000  153.669998  79.970001  28.299999  103.129997   \n",
       "372  2015-03-17  81.059998  154.509995  78.449997  28.150000  103.169998   \n",
       "373  2015-03-18  81.860001  155.729996  81.330002  28.150000  106.699997   \n",
       "\n",
       "            DD         DIS         GE          GS  ...        PFE         PG  \\\n",
       "0    59.409999   64.750000  24.280001  165.250000  ...  28.799999  79.279999   \n",
       "1    59.319997   64.320000  24.320000  162.970001  ...  28.709999  78.620003   \n",
       "2    59.319997   64.449997  24.230000  162.309998  ...  28.490000  77.720001   \n",
       "3    59.509996   65.239998  24.250000  162.289993  ...  28.520000  78.050003   \n",
       "4    59.009995   65.190002  24.049999  159.850006  ...  28.879999  77.209999   \n",
       "..         ...         ...        ...         ...  ...        ...        ...   \n",
       "369  80.400001  107.169998  25.400000  189.949997  ...  34.000000  82.089996   \n",
       "370  80.499997  106.440002  25.040001  189.339996  ...  34.000000  81.830002   \n",
       "371  77.069994  107.370003  25.450001  191.899994  ...  34.439999  83.559998   \n",
       "372  74.680001  106.959999  25.309999  190.570007  ...  34.169998  82.849998   \n",
       "373  76.009997  107.970001  25.639999  192.320007  ...  34.380001  83.750000   \n",
       "\n",
       "             T         TRV         UNH         UTX           V         VZ  \\\n",
       "0    34.220001   86.379997   71.820000  109.419998  196.240005  47.980000   \n",
       "1    34.090000   85.870003   72.320000  110.000000  193.339996  47.270000   \n",
       "2    34.049999   85.980003   71.980003  109.260002  191.559998  46.950001   \n",
       "3    34.230000   85.830002   72.160004  109.660004  193.559998  47.669998   \n",
       "4    33.980000   85.410004   71.989998  109.360001  193.050003  47.000000   \n",
       "..         ...         ...         ...         ...         ...        ...   \n",
       "369  33.130001  107.830002  114.879997  121.239998  269.579987  48.730000   \n",
       "370  32.759998  106.720001  115.250000  118.739998  265.029999  48.840000   \n",
       "371  33.060001  108.930000  118.519997  120.070000  269.019989  49.270000   \n",
       "372  32.900002  108.750000  117.599998  119.860001  264.500000  48.950001   \n",
       "373  33.590000  109.519997  119.959999  120.309998  267.670013  49.540001   \n",
       "\n",
       "           WMT        XOM  \n",
       "0    76.419998  87.750000  \n",
       "1    75.750000  87.360001  \n",
       "2    74.650002  87.139999  \n",
       "3    74.620003  87.070000  \n",
       "4    74.360001  86.900002  \n",
       "..         ...        ...  \n",
       "369  81.900002  84.220001  \n",
       "370  81.900002  83.870003  \n",
       "371  83.290001  84.760002  \n",
       "372  82.620003  84.080002  \n",
       "373  82.529999  86.070000  \n",
       "\n",
       "[374 rows x 31 columns]"
      ]
     },
     "execution_count": 2,
     "metadata": {},
     "output_type": "execute_result"
    }
   ],
   "source": [
    "df = pandas.read_csv('close_prices.csv')\n",
    "df"
   ]
  },
  {
   "cell_type": "markdown",
   "metadata": {},
   "source": [
    "## Task №2\n",
    "*Ru*: На загруженных данных обучите преобразование PCA с числом компоненты равным 10. Скольких компонент хватит, чтобы объяснить 90% дисперсии?\n",
    "\n",
    "*En:* Train the PCA (with the number of components equal to 10) on the loaded data. How many components are enough to explain 90% of the variance? "
   ]
  },
  {
   "cell_type": "code",
   "execution_count": 3,
   "metadata": {},
   "outputs": [],
   "source": [
    "X = df.loc[:, 'AXP':]"
   ]
  },
  {
   "cell_type": "code",
   "execution_count": 4,
   "metadata": {},
   "outputs": [
    {
     "data": {
      "text/plain": [
       "PCA(n_components=10)"
      ]
     },
     "execution_count": 4,
     "metadata": {},
     "output_type": "execute_result"
    }
   ],
   "source": [
    "pca = PCA(n_components=10)\n",
    "pca.fit(X)"
   ]
  },
  {
   "cell_type": "code",
   "execution_count": 5,
   "metadata": {},
   "outputs": [
    {
     "data": {
      "text/plain": [
       "4"
      ]
     },
     "execution_count": 5,
     "metadata": {},
     "output_type": "execute_result"
    }
   ],
   "source": [
    "explained_variance = pca.explained_variance_ratio_\n",
    "#explained_variance_ratio_ содержит процент дисперсии, который объясняет каждая компонента\n",
    "\n",
    "dispersion_sum = 0\n",
    "counter = 0\n",
    "for i in explained_variance:\n",
    "    if dispersion_sum < 0.9:\n",
    "        dispersion_sum += i\n",
    "        counter += 1\n",
    "    else: break\n",
    "        \n",
    "counter"
   ]
  },
  {
   "cell_type": "markdown",
   "metadata": {},
   "source": [
    "## Task №3\n",
    "*Ru*: Примените построенное преобразование к исходным данным и возьмите значения первой компоненты. \n",
    "\n",
    "*En:* Apply the constructed transform to the original data and take the values of the first component. "
   ]
  },
  {
   "cell_type": "code",
   "execution_count": 6,
   "metadata": {},
   "outputs": [
    {
     "data": {
      "text/plain": [
       "(374,)"
      ]
     },
     "execution_count": 6,
     "metadata": {},
     "output_type": "execute_result"
    }
   ],
   "source": [
    "first_component = pca.transform(X)[:,0]\n",
    "first_component.shape"
   ]
  },
  {
   "cell_type": "markdown",
   "metadata": {},
   "source": [
    "## Task №4\n",
    "*Ru*: Загрузите информацию об индексе Доу-Джонса из файла djia_index.csv. Чему равна корреляция Пирсона между первой компонентой и индексом Доу-Джонса? \n",
    "\n",
    "\n",
    "*En:* Download the Dow Jones index information from the djia_index.csv file. What is the Pearson correlation between the first component and the Dow Jones index? "
   ]
  },
  {
   "cell_type": "code",
   "execution_count": 7,
   "metadata": {},
   "outputs": [
    {
     "data": {
      "text/html": [
       "<div>\n",
       "<style scoped>\n",
       "    .dataframe tbody tr th:only-of-type {\n",
       "        vertical-align: middle;\n",
       "    }\n",
       "\n",
       "    .dataframe tbody tr th {\n",
       "        vertical-align: top;\n",
       "    }\n",
       "\n",
       "    .dataframe thead th {\n",
       "        text-align: right;\n",
       "    }\n",
       "</style>\n",
       "<table border=\"1\" class=\"dataframe\">\n",
       "  <thead>\n",
       "    <tr style=\"text-align: right;\">\n",
       "      <th></th>\n",
       "      <th>date</th>\n",
       "      <th>^DJI</th>\n",
       "    </tr>\n",
       "  </thead>\n",
       "  <tbody>\n",
       "    <tr>\n",
       "      <th>0</th>\n",
       "      <td>2013-09-23</td>\n",
       "      <td>15401.379883</td>\n",
       "    </tr>\n",
       "    <tr>\n",
       "      <th>1</th>\n",
       "      <td>2013-09-24</td>\n",
       "      <td>15334.589844</td>\n",
       "    </tr>\n",
       "    <tr>\n",
       "      <th>2</th>\n",
       "      <td>2013-09-25</td>\n",
       "      <td>15273.259766</td>\n",
       "    </tr>\n",
       "    <tr>\n",
       "      <th>3</th>\n",
       "      <td>2013-09-26</td>\n",
       "      <td>15328.299805</td>\n",
       "    </tr>\n",
       "    <tr>\n",
       "      <th>4</th>\n",
       "      <td>2013-09-27</td>\n",
       "      <td>15258.240234</td>\n",
       "    </tr>\n",
       "    <tr>\n",
       "      <th>...</th>\n",
       "      <td>...</td>\n",
       "      <td>...</td>\n",
       "    </tr>\n",
       "    <tr>\n",
       "      <th>369</th>\n",
       "      <td>2015-03-12</td>\n",
       "      <td>17895.220703</td>\n",
       "    </tr>\n",
       "    <tr>\n",
       "      <th>370</th>\n",
       "      <td>2015-03-13</td>\n",
       "      <td>17749.310547</td>\n",
       "    </tr>\n",
       "    <tr>\n",
       "      <th>371</th>\n",
       "      <td>2015-03-16</td>\n",
       "      <td>17977.419922</td>\n",
       "    </tr>\n",
       "    <tr>\n",
       "      <th>372</th>\n",
       "      <td>2015-03-17</td>\n",
       "      <td>17849.080078</td>\n",
       "    </tr>\n",
       "    <tr>\n",
       "      <th>373</th>\n",
       "      <td>2015-03-18</td>\n",
       "      <td>18076.189453</td>\n",
       "    </tr>\n",
       "  </tbody>\n",
       "</table>\n",
       "<p>374 rows × 2 columns</p>\n",
       "</div>"
      ],
      "text/plain": [
       "           date          ^DJI\n",
       "0    2013-09-23  15401.379883\n",
       "1    2013-09-24  15334.589844\n",
       "2    2013-09-25  15273.259766\n",
       "3    2013-09-26  15328.299805\n",
       "4    2013-09-27  15258.240234\n",
       "..          ...           ...\n",
       "369  2015-03-12  17895.220703\n",
       "370  2015-03-13  17749.310547\n",
       "371  2015-03-16  17977.419922\n",
       "372  2015-03-17  17849.080078\n",
       "373  2015-03-18  18076.189453\n",
       "\n",
       "[374 rows x 2 columns]"
      ]
     },
     "execution_count": 7,
     "metadata": {},
     "output_type": "execute_result"
    }
   ],
   "source": [
    "df = pandas.read_csv('djia_index.csv')\n",
    "df"
   ]
  },
  {
   "cell_type": "code",
   "execution_count": 8,
   "metadata": {},
   "outputs": [],
   "source": [
    "DJI = df['^DJI'].values"
   ]
  },
  {
   "cell_type": "code",
   "execution_count": 9,
   "metadata": {},
   "outputs": [
    {
     "data": {
      "text/plain": [
       "array([[1.        , 0.90965222],\n",
       "       [0.90965222, 1.        ]])"
      ]
     },
     "execution_count": 9,
     "metadata": {},
     "output_type": "execute_result"
    }
   ],
   "source": [
    "np.corrcoef(first_component, DJI)"
   ]
  },
  {
   "cell_type": "markdown",
   "metadata": {},
   "source": [
    "## Task №5\n",
    "*Ru*: Какая компания имеет наибольший вес в первой компоненте? Укажите ее название с большой буквы. \n",
    "\n",
    "*En:* Which company has the most weight in the first component? Enter its name with a capital letter. "
   ]
  },
  {
   "cell_type": "code",
   "execution_count": 10,
   "metadata": {},
   "outputs": [
    {
     "data": {
      "text/plain": [
       "0.5796839457473606"
      ]
     },
     "execution_count": 10,
     "metadata": {},
     "output_type": "execute_result"
    }
   ],
   "source": [
    "#Поле components_ содержит информацию о том, какой вклад вносят признаки в компоненты.\n",
    "components = pca.components_[0]\n",
    "\n",
    "max_component = components.max()\n",
    "max_component"
   ]
  },
  {
   "cell_type": "code",
   "execution_count": 11,
   "metadata": {},
   "outputs": [
    {
     "data": {
      "text/plain": [
       "26"
      ]
     },
     "execution_count": 11,
     "metadata": {},
     "output_type": "execute_result"
    }
   ],
   "source": [
    "max_component_index = 0\n",
    "for i in range(len(components)):\n",
    "    if max_component == components[i]:\n",
    "        max_component_index = i\n",
    "        break\n",
    "        \n",
    "max_component_index"
   ]
  },
  {
   "cell_type": "code",
   "execution_count": 12,
   "metadata": {},
   "outputs": [
    {
     "data": {
      "text/plain": [
       "'V'"
      ]
     },
     "execution_count": 12,
     "metadata": {},
     "output_type": "execute_result"
    }
   ],
   "source": [
    "X.columns[max_component_index]"
   ]
  }
 ],
 "metadata": {
  "kernelspec": {
   "display_name": "Python 3",
   "language": "python",
   "name": "python3"
  },
  "language_info": {
   "codemirror_mode": {
    "name": "ipython",
    "version": 3
   },
   "file_extension": ".py",
   "mimetype": "text/x-python",
   "name": "python",
   "nbconvert_exporter": "python",
   "pygments_lexer": "ipython3",
   "version": "3.8.5"
  }
 },
 "nbformat": 4,
 "nbformat_minor": 4
}
