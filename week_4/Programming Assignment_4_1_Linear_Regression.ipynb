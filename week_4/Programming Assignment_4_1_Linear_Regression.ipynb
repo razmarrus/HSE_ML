{
 "cells": [
  {
   "cell_type": "markdown",
   "metadata": {},
   "source": [
    "# Programming Assignment: Linear Regression "
   ]
  },
  {
   "cell_type": "markdown",
   "metadata": {},
   "source": [
    "In this assignment we will work with Ridge Regression, which uses a quadratic or L2 regularization. The model will predict possible earning while analyzing texts.\n",
    "Let's take a look at original four tasks presented in Russian.\n",
    "\n",
    "**Tasks will be duplicated in english further in this assignment**\n",
    "\n",
    "1.  Загрузите данные об описаниях вакансий и соответствующих годовых зарплатах из файла salary-train.csv (либо его заархивированную версию salary-train.zip).\n",
    "2. Проведите предобработку:\n",
    "\n",
    "    * Приведите тексты к нижнему регистру (text.lower()).\n",
    "    * Замените все, кроме букв и цифр, на пробелы — это облегчит дальнейшее разделение текста на слова. Для такой замены в строке text подходит следующий вызов: re.sub('[^a-zA-Z0-9]', ' ', text). Также можно воспользоваться методом replace у DataFrame, чтобы сразу преобразовать все тексты:\n",
    "\n",
    "    * Примените TfidfVectorizer для преобразования текстов в векторы признаков. Оставьте только те слова, которые встречаются хотя бы в 5 объектах (параметр min_df у TfidfVectorizer).\n",
    "    * Замените пропуски в столбцах LocationNormalized и ContractTime на специальную строку 'nan'. Код для этого был приведен выше.\n",
    "    * Примените DictVectorizer для получения one-hot-кодирования признаков LocationNormalized и ContractTime.\n",
    "    * Объедините все полученные признаки в одну матрицу \"объекты-признаки\". Обратите внимание, что матрицы для текстов и категориальных признаков являются разреженными. Для объединения их столбцов нужно воспользоваться функцией scipy.sparse.hstack.\n",
    "\n",
    "3.  Обучите гребневую регрессию с параметрами alpha=1 и random_state=241. Целевая переменная записана в столбце SalaryNormalized.\n",
    "\n",
    "4.  Постройте прогнозы для двух примеров из файла salary-test-mini.csv. Значения полученных прогнозов являются ответом на задание. Укажите их через пробел."
   ]
  },
  {
   "cell_type": "code",
   "execution_count": 1,
   "metadata": {},
   "outputs": [],
   "source": [
    "import numpy as np\n",
    "\n",
    "from sklearn.feature_extraction.text import TfidfVectorizer\n",
    "from sklearn.linear_model import Ridge\n",
    "from sklearn.feature_extraction import DictVectorizer\n",
    "from scipy.sparse import hstack\n",
    "\n",
    "import pandas"
   ]
  },
  {
   "cell_type": "markdown",
   "metadata": {},
   "source": [
    "## Task №1\n",
    "*Ru*: Загрузите данные об описаниях вакансий и соответствующих годовых зарплатах из файла salary-train.csv (либо его заархивированную версию salary-train.zip)\n",
    "\n",
    "*En:* Download data that contains job descriptions and corresponding annual salaries from the salary-train.csv file."
   ]
  },
  {
   "cell_type": "code",
   "execution_count": 2,
   "metadata": {},
   "outputs": [
    {
     "data": {
      "text/html": [
       "<div>\n",
       "<style scoped>\n",
       "    .dataframe tbody tr th:only-of-type {\n",
       "        vertical-align: middle;\n",
       "    }\n",
       "\n",
       "    .dataframe tbody tr th {\n",
       "        vertical-align: top;\n",
       "    }\n",
       "\n",
       "    .dataframe thead th {\n",
       "        text-align: right;\n",
       "    }\n",
       "</style>\n",
       "<table border=\"1\" class=\"dataframe\">\n",
       "  <thead>\n",
       "    <tr style=\"text-align: right;\">\n",
       "      <th></th>\n",
       "      <th>FullDescription</th>\n",
       "      <th>LocationNormalized</th>\n",
       "      <th>ContractTime</th>\n",
       "      <th>SalaryNormalized</th>\n",
       "    </tr>\n",
       "  </thead>\n",
       "  <tbody>\n",
       "    <tr>\n",
       "      <th>0</th>\n",
       "      <td>International Sales Manager London ****k  ****...</td>\n",
       "      <td>London</td>\n",
       "      <td>permanent</td>\n",
       "      <td>33000</td>\n",
       "    </tr>\n",
       "    <tr>\n",
       "      <th>1</th>\n",
       "      <td>An ideal opportunity for an individual that ha...</td>\n",
       "      <td>London</td>\n",
       "      <td>permanent</td>\n",
       "      <td>50000</td>\n",
       "    </tr>\n",
       "    <tr>\n",
       "      <th>2</th>\n",
       "      <td>Online Content and Brand Manager// Luxury Reta...</td>\n",
       "      <td>South East London</td>\n",
       "      <td>permanent</td>\n",
       "      <td>40000</td>\n",
       "    </tr>\n",
       "    <tr>\n",
       "      <th>3</th>\n",
       "      <td>A great local marketleader is seeking a perman...</td>\n",
       "      <td>Dereham</td>\n",
       "      <td>permanent</td>\n",
       "      <td>22500</td>\n",
       "    </tr>\n",
       "    <tr>\n",
       "      <th>4</th>\n",
       "      <td>Registered Nurse / RGN  Nursing Home for Young...</td>\n",
       "      <td>Sutton Coldfield</td>\n",
       "      <td>NaN</td>\n",
       "      <td>20355</td>\n",
       "    </tr>\n",
       "    <tr>\n",
       "      <th>...</th>\n",
       "      <td>...</td>\n",
       "      <td>...</td>\n",
       "      <td>...</td>\n",
       "      <td>...</td>\n",
       "    </tr>\n",
       "    <tr>\n",
       "      <th>59995</th>\n",
       "      <td>As a result of continued growth, First Class S...</td>\n",
       "      <td>Whitley Bay</td>\n",
       "      <td>contract</td>\n",
       "      <td>26400</td>\n",
       "    </tr>\n",
       "    <tr>\n",
       "      <th>59996</th>\n",
       "      <td>PHP / MVC Web Developer  MacclesfieldCirca ***...</td>\n",
       "      <td>Macclesfield</td>\n",
       "      <td>permanent</td>\n",
       "      <td>26000</td>\n",
       "    </tr>\n",
       "    <tr>\n",
       "      <th>59997</th>\n",
       "      <td>Staff Nurse, Nursing Home, Baldock White Recru...</td>\n",
       "      <td>Baldock</td>\n",
       "      <td>NaN</td>\n",
       "      <td>24500</td>\n",
       "    </tr>\n",
       "    <tr>\n",
       "      <th>59998</th>\n",
       "      <td>This is one of the best agency side opportunit...</td>\n",
       "      <td>The City</td>\n",
       "      <td>permanent</td>\n",
       "      <td>65000</td>\n",
       "    </tr>\n",
       "    <tr>\n",
       "      <th>59999</th>\n",
       "      <td>Must have CSCS card must have asbestos awarene...</td>\n",
       "      <td>London</td>\n",
       "      <td>NaN</td>\n",
       "      <td>23040</td>\n",
       "    </tr>\n",
       "  </tbody>\n",
       "</table>\n",
       "<p>60000 rows × 4 columns</p>\n",
       "</div>"
      ],
      "text/plain": [
       "                                         FullDescription LocationNormalized  \\\n",
       "0      International Sales Manager London ****k  ****...             London   \n",
       "1      An ideal opportunity for an individual that ha...             London   \n",
       "2      Online Content and Brand Manager// Luxury Reta...  South East London   \n",
       "3      A great local marketleader is seeking a perman...            Dereham   \n",
       "4      Registered Nurse / RGN  Nursing Home for Young...   Sutton Coldfield   \n",
       "...                                                  ...                ...   \n",
       "59995  As a result of continued growth, First Class S...        Whitley Bay   \n",
       "59996  PHP / MVC Web Developer  MacclesfieldCirca ***...       Macclesfield   \n",
       "59997  Staff Nurse, Nursing Home, Baldock White Recru...            Baldock   \n",
       "59998  This is one of the best agency side opportunit...           The City   \n",
       "59999  Must have CSCS card must have asbestos awarene...             London   \n",
       "\n",
       "      ContractTime  SalaryNormalized  \n",
       "0        permanent             33000  \n",
       "1        permanent             50000  \n",
       "2        permanent             40000  \n",
       "3        permanent             22500  \n",
       "4              NaN             20355  \n",
       "...            ...               ...  \n",
       "59995     contract             26400  \n",
       "59996    permanent             26000  \n",
       "59997          NaN             24500  \n",
       "59998    permanent             65000  \n",
       "59999          NaN             23040  \n",
       "\n",
       "[60000 rows x 4 columns]"
      ]
     },
     "execution_count": 2,
     "metadata": {},
     "output_type": "execute_result"
    }
   ],
   "source": [
    "df = pandas.read_csv('salary-train.csv')\n",
    "df"
   ]
  },
  {
   "cell_type": "markdown",
   "metadata": {},
   "source": [
    "## Task №2\n",
    "*Ru*: Проведите предобработку данных\n",
    "\n",
    "*En:*Transform the data "
   ]
  },
  {
   "cell_type": "markdown",
   "metadata": {},
   "source": [
    "Приведите тексты к нижнему регистру (text.lower())  \n",
    "Замените все, кроме букв и цифр, на пробелы — это облегчит дальнейшее разделение текста на слова. Для такой замены в строке text подходит следующий вызов: re.sub('[^a-zA-Z0-9]', ' ', text). Также можно воспользоваться методом replace у DataFrame, чтобы сразу преобразовать все тексты.  \n",
    "Замените пропуски в столбцах LocationNormalized и ContractTime на специальную строку 'nan'. \n",
    "\n",
    "Make texts lowercase (text.lower ())  \n",
    "Replace everything except letters and numbers with spaces - this will make it easier to further divide the text into words. To do that following code could be used: re.sub ('[^ a-zA-Z0-9]', '', text). You can also use the replace method of the DataFrame to transform all texts at once.\n",
    "Replace the whitespace in the LocationNormalized and ContractTime columns with the special string 'nan'. "
   ]
  },
  {
   "cell_type": "code",
   "execution_count": 3,
   "metadata": {},
   "outputs": [],
   "source": [
    "def data_preparation(df):\n",
    "    column_list = ['FullDescription', 'LocationNormalized', 'ContractTime']\n",
    "    for column in column_list:\n",
    "        df[column] = df[column].map(lambda x: x.lower() if pandas.notnull(x) else x)\n",
    "        df[column] = df[column].replace('[^a-zA-Z0-9]', ' ', regex = True)\n",
    "        \n",
    "    df['LocationNormalized'].fillna('nan', inplace=True)\n",
    "    df['ContractTime'].fillna('nan', inplace=True)\n",
    "    return df"
   ]
  },
  {
   "cell_type": "code",
   "execution_count": 4,
   "metadata": {},
   "outputs": [
    {
     "data": {
      "text/html": [
       "<div>\n",
       "<style scoped>\n",
       "    .dataframe tbody tr th:only-of-type {\n",
       "        vertical-align: middle;\n",
       "    }\n",
       "\n",
       "    .dataframe tbody tr th {\n",
       "        vertical-align: top;\n",
       "    }\n",
       "\n",
       "    .dataframe thead th {\n",
       "        text-align: right;\n",
       "    }\n",
       "</style>\n",
       "<table border=\"1\" class=\"dataframe\">\n",
       "  <thead>\n",
       "    <tr style=\"text-align: right;\">\n",
       "      <th></th>\n",
       "      <th>FullDescription</th>\n",
       "      <th>LocationNormalized</th>\n",
       "      <th>ContractTime</th>\n",
       "      <th>SalaryNormalized</th>\n",
       "    </tr>\n",
       "  </thead>\n",
       "  <tbody>\n",
       "    <tr>\n",
       "      <th>0</th>\n",
       "      <td>international sales manager london     k      ...</td>\n",
       "      <td>london</td>\n",
       "      <td>permanent</td>\n",
       "      <td>33000</td>\n",
       "    </tr>\n",
       "    <tr>\n",
       "      <th>1</th>\n",
       "      <td>an ideal opportunity for an individual that ha...</td>\n",
       "      <td>london</td>\n",
       "      <td>permanent</td>\n",
       "      <td>50000</td>\n",
       "    </tr>\n",
       "    <tr>\n",
       "      <th>2</th>\n",
       "      <td>online content and brand manager   luxury reta...</td>\n",
       "      <td>south east london</td>\n",
       "      <td>permanent</td>\n",
       "      <td>40000</td>\n",
       "    </tr>\n",
       "    <tr>\n",
       "      <th>3</th>\n",
       "      <td>a great local marketleader is seeking a perman...</td>\n",
       "      <td>dereham</td>\n",
       "      <td>permanent</td>\n",
       "      <td>22500</td>\n",
       "    </tr>\n",
       "    <tr>\n",
       "      <th>4</th>\n",
       "      <td>registered nurse   rgn  nursing home for young...</td>\n",
       "      <td>sutton coldfield</td>\n",
       "      <td>nan</td>\n",
       "      <td>20355</td>\n",
       "    </tr>\n",
       "    <tr>\n",
       "      <th>...</th>\n",
       "      <td>...</td>\n",
       "      <td>...</td>\n",
       "      <td>...</td>\n",
       "      <td>...</td>\n",
       "    </tr>\n",
       "    <tr>\n",
       "      <th>59995</th>\n",
       "      <td>as a result of continued growth  first class s...</td>\n",
       "      <td>whitley bay</td>\n",
       "      <td>contract</td>\n",
       "      <td>26400</td>\n",
       "    </tr>\n",
       "    <tr>\n",
       "      <th>59996</th>\n",
       "      <td>php   mvc web developer  macclesfieldcirca    ...</td>\n",
       "      <td>macclesfield</td>\n",
       "      <td>permanent</td>\n",
       "      <td>26000</td>\n",
       "    </tr>\n",
       "    <tr>\n",
       "      <th>59997</th>\n",
       "      <td>staff nurse  nursing home  baldock white recru...</td>\n",
       "      <td>baldock</td>\n",
       "      <td>nan</td>\n",
       "      <td>24500</td>\n",
       "    </tr>\n",
       "    <tr>\n",
       "      <th>59998</th>\n",
       "      <td>this is one of the best agency side opportunit...</td>\n",
       "      <td>the city</td>\n",
       "      <td>permanent</td>\n",
       "      <td>65000</td>\n",
       "    </tr>\n",
       "    <tr>\n",
       "      <th>59999</th>\n",
       "      <td>must have cscs card must have asbestos awarene...</td>\n",
       "      <td>london</td>\n",
       "      <td>nan</td>\n",
       "      <td>23040</td>\n",
       "    </tr>\n",
       "  </tbody>\n",
       "</table>\n",
       "<p>60000 rows × 4 columns</p>\n",
       "</div>"
      ],
      "text/plain": [
       "                                         FullDescription LocationNormalized  \\\n",
       "0      international sales manager london     k      ...             london   \n",
       "1      an ideal opportunity for an individual that ha...             london   \n",
       "2      online content and brand manager   luxury reta...  south east london   \n",
       "3      a great local marketleader is seeking a perman...            dereham   \n",
       "4      registered nurse   rgn  nursing home for young...   sutton coldfield   \n",
       "...                                                  ...                ...   \n",
       "59995  as a result of continued growth  first class s...        whitley bay   \n",
       "59996  php   mvc web developer  macclesfieldcirca    ...       macclesfield   \n",
       "59997  staff nurse  nursing home  baldock white recru...            baldock   \n",
       "59998  this is one of the best agency side opportunit...           the city   \n",
       "59999  must have cscs card must have asbestos awarene...             london   \n",
       "\n",
       "      ContractTime  SalaryNormalized  \n",
       "0        permanent             33000  \n",
       "1        permanent             50000  \n",
       "2        permanent             40000  \n",
       "3        permanent             22500  \n",
       "4              nan             20355  \n",
       "...            ...               ...  \n",
       "59995     contract             26400  \n",
       "59996    permanent             26000  \n",
       "59997          nan             24500  \n",
       "59998    permanent             65000  \n",
       "59999          nan             23040  \n",
       "\n",
       "[60000 rows x 4 columns]"
      ]
     },
     "execution_count": 4,
     "metadata": {},
     "output_type": "execute_result"
    }
   ],
   "source": [
    "df = data_preparation(df)\n",
    "df"
   ]
  },
  {
   "cell_type": "markdown",
   "metadata": {},
   "source": [
    "Примените TfidfVectorizer для преобразования текстов в векторы признаков. Оставьте только те слова, которые встречаются хотя бы в 5 объектах (параметр min_df у TfidfVectorizer).\n",
    "\n",
    "Use TfidfVectorizer to convert texts to feature vectors. Leave only those words that occur in at least 5 objects (the min_df parameter of TfidfVectorizer). "
   ]
  },
  {
   "cell_type": "code",
   "execution_count": 5,
   "metadata": {},
   "outputs": [
    {
     "data": {
      "text/plain": [
       "<60000x22861 sparse matrix of type '<class 'numpy.float64'>'\n",
       "\twith 8365759 stored elements in Compressed Sparse Row format>"
      ]
     },
     "execution_count": 5,
     "metadata": {},
     "output_type": "execute_result"
    }
   ],
   "source": [
    "vectorizer = TfidfVectorizer(min_df = 5) #,lowercase= True \n",
    "X_train = vectorizer.fit_transform(df['FullDescription'])\n",
    "X_train"
   ]
  },
  {
   "cell_type": "markdown",
   "metadata": {},
   "source": [
    "Примените DictVectorizer для получения one-hot-кодирования признаков LocationNormalized и ContractTime.\n",
    "\n",
    "Apply DictVectorizer to get one-hot coding of LocationNormalized and ContractTime rows. "
   ]
  },
  {
   "cell_type": "code",
   "execution_count": 6,
   "metadata": {},
   "outputs": [
    {
     "data": {
      "text/plain": [
       "<60000x1766 sparse matrix of type '<class 'numpy.float64'>'\n",
       "\twith 120000 stored elements in Compressed Sparse Row format>"
      ]
     },
     "execution_count": 6,
     "metadata": {},
     "output_type": "execute_result"
    }
   ],
   "source": [
    "enc = DictVectorizer()\n",
    "X_train_categ = enc.fit_transform(df[['LocationNormalized', 'ContractTime']].to_dict('records'))\n",
    "X_train_categ "
   ]
  },
  {
   "cell_type": "markdown",
   "metadata": {},
   "source": [
    "Объедините все полученные признаки в одну матрицу \"объекты-признаки\". Обратите внимание, что матрицы для текстов и категориальных признаков являются разреженными. Для объединения их столбцов нужно воспользоваться функцией scipy.sparse.hstack.\n",
    "\n",
    "Combine all the received characteristics into one matrix \"objects-characteristics\". Note that matrices for texts and categorical features are sparse. To combine their columns, use the scipy.sparse.hstack function. "
   ]
  },
  {
   "cell_type": "code",
   "execution_count": 7,
   "metadata": {},
   "outputs": [],
   "source": [
    "X_train = hstack([X_train, X_train_categ])"
   ]
  },
  {
   "cell_type": "markdown",
   "metadata": {},
   "source": [
    "## Task №3\n",
    "*Ru*: Обучите гребневую регрессию с параметрами alpha=1 и random_state=241. Целевая переменная записана в столбце SalaryNormalized.\n",
    "\n",
    "*En:* Train ridge regression with parameters alpha = 1 and random_state = 241. The target variable is written in the SalaryNormalized column "
   ]
  },
  {
   "cell_type": "code",
   "execution_count": 8,
   "metadata": {},
   "outputs": [
    {
     "data": {
      "text/plain": [
       "Ridge(random_state=241)"
      ]
     },
     "execution_count": 8,
     "metadata": {},
     "output_type": "execute_result"
    }
   ],
   "source": [
    "y_train = df['SalaryNormalized']\n",
    "clf = Ridge(alpha=1.0, random_state=241)\n",
    "clf.fit(X_train, y_train)"
   ]
  },
  {
   "cell_type": "markdown",
   "metadata": {},
   "source": [
    "## Task №4\n",
    "*Ru*: Постройте прогнозы для двух примеров из файла salary-test-mini.csv. Значения полученных прогнозов являются ответом на задание. Укажите их через пробел.\n",
    "\n",
    "*En:* Make a predictions for two examples from the salary-test-mini.csv file. The values that you will get from forecasts are the answer to the task. "
   ]
  },
  {
   "cell_type": "code",
   "execution_count": 9,
   "metadata": {},
   "outputs": [
    {
     "data": {
      "text/html": [
       "<div>\n",
       "<style scoped>\n",
       "    .dataframe tbody tr th:only-of-type {\n",
       "        vertical-align: middle;\n",
       "    }\n",
       "\n",
       "    .dataframe tbody tr th {\n",
       "        vertical-align: top;\n",
       "    }\n",
       "\n",
       "    .dataframe thead th {\n",
       "        text-align: right;\n",
       "    }\n",
       "</style>\n",
       "<table border=\"1\" class=\"dataframe\">\n",
       "  <thead>\n",
       "    <tr style=\"text-align: right;\">\n",
       "      <th></th>\n",
       "      <th>FullDescription</th>\n",
       "      <th>LocationNormalized</th>\n",
       "      <th>ContractTime</th>\n",
       "      <th>SalaryNormalized</th>\n",
       "    </tr>\n",
       "  </thead>\n",
       "  <tbody>\n",
       "    <tr>\n",
       "      <th>0</th>\n",
       "      <td>We currently have a vacancy for an HR Project ...</td>\n",
       "      <td>Milton Keynes</td>\n",
       "      <td>contract</td>\n",
       "      <td>NaN</td>\n",
       "    </tr>\n",
       "    <tr>\n",
       "      <th>1</th>\n",
       "      <td>A Web developer opportunity has arisen with an...</td>\n",
       "      <td>Manchester</td>\n",
       "      <td>permanent</td>\n",
       "      <td>NaN</td>\n",
       "    </tr>\n",
       "  </tbody>\n",
       "</table>\n",
       "</div>"
      ],
      "text/plain": [
       "                                     FullDescription LocationNormalized  \\\n",
       "0  We currently have a vacancy for an HR Project ...      Milton Keynes   \n",
       "1  A Web developer opportunity has arisen with an...         Manchester   \n",
       "\n",
       "  ContractTime  SalaryNormalized  \n",
       "0     contract               NaN  \n",
       "1    permanent               NaN  "
      ]
     },
     "execution_count": 9,
     "metadata": {},
     "output_type": "execute_result"
    }
   ],
   "source": [
    "test_df = pandas.read_csv('salary-test-mini.csv')\n",
    "test_df"
   ]
  },
  {
   "cell_type": "code",
   "execution_count": 10,
   "metadata": {},
   "outputs": [
    {
     "data": {
      "text/plain": [
       "array([56579.70406425, 37132.68920761])"
      ]
     },
     "execution_count": 10,
     "metadata": {},
     "output_type": "execute_result"
    }
   ],
   "source": [
    "test_df = data_preparation(test_df)\n",
    "\n",
    "X_test = vectorizer.transform(test_df['FullDescription'])\n",
    "X_test_categ  = enc.transform(test_df[['LocationNormalized', 'ContractTime']].to_dict('records'))\n",
    "X_test = hstack([X_test, X_test_categ])\n",
    "\n",
    "clf.predict(X_test)"
   ]
  }
 ],
 "metadata": {
  "kernelspec": {
   "display_name": "Python 3",
   "language": "python",
   "name": "python3"
  },
  "language_info": {
   "codemirror_mode": {
    "name": "ipython",
    "version": 3
   },
   "file_extension": ".py",
   "mimetype": "text/x-python",
   "name": "python",
   "nbconvert_exporter": "python",
   "pygments_lexer": "ipython3",
   "version": "3.8.5"
  }
 },
 "nbformat": 4,
 "nbformat_minor": 4
}
